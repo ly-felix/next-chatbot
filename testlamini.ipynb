{
 "cells": [
  {
   "cell_type": "code",
   "execution_count": 1,
   "metadata": {},
   "outputs": [
    {
     "name": "stdout",
     "output_type": "stream",
     "text": [
      "h\n"
     ]
    }
   ],
   "source": [
    "print(\"h\")"
   ]
  },
  {
   "cell_type": "code",
   "execution_count": 2,
   "metadata": {},
   "outputs": [
    {
     "name": "stdout",
     "output_type": "stream",
     "text": [
      "  Hello! I'm just an AI, I don't have feelings or emotions like humans do, so I don't have a physical state of being like \"how I am.\" I'm here to help answer your questions to the best of my ability, and I'm ready when you are! Is there something specific you would like to know or discuss?\n"
     ]
    }
   ],
   "source": [
    "import lamini\n",
    "\n",
    "lamini.api_key = \"6d63361c51c9cd2a39365388ab8becebf6e59766\"\n",
    "\n",
    "llm = lamini.LlamaV2Runner()\n",
    "print(llm(\"How are you?\"))"
   ]
  },
  {
   "cell_type": "code",
   "execution_count": null,
   "metadata": {},
   "outputs": [],
   "source": []
  }
 ],
 "metadata": {
  "kernelspec": {
   "display_name": "base",
   "language": "python",
   "name": "python3"
  },
  "language_info": {
   "codemirror_mode": {
    "name": "ipython",
    "version": 3
   },
   "file_extension": ".py",
   "mimetype": "text/x-python",
   "name": "python",
   "nbconvert_exporter": "python",
   "pygments_lexer": "ipython3",
   "version": "3.11.3"
  }
 },
 "nbformat": 4,
 "nbformat_minor": 2
}
